{
 "cells": [
  {
   "cell_type": "markdown",
   "metadata": {},
   "source": [
    "# Build Custom Gates\n",
    "\n",
    "In this notebook, custom single-qubit gates will be implemented in quil. These gates will be produced using a function that returns the transfer function for an operator whenever x (theta), y (gamma), and z (phi) rotation angles are sent as input. \n",
    "\n",
    "To demonstrate that these gates work, a decomposed toffoli operation will be described using the custom gates rather than with built in single-qubit gates."
   ]
  },
  {
   "cell_type": "code",
   "execution_count": 1,
   "metadata": {},
   "outputs": [
    {
     "name": "stdout",
     "output_type": "stream",
     "text": [
      "pyquil version = 2.0.0\n"
     ]
    }
   ],
   "source": [
    "import pyquil\n",
    "from pyquil import Program, get_qc\n",
    "from pyquil.gates import *\n",
    "from pyquil.api import WavefunctionSimulator\n",
    "from pyquil.quil import DefGate\n",
    "import numpy as np\n",
    "import matplotlib.pyplot as plt\n",
    "\n",
    "print(\"pyquil version = %s\"%pyquil.__version__)"
   ]
  },
  {
   "cell_type": "markdown",
   "metadata": {},
   "source": [
    "Create the function that inputs rotation angles and outputs a transformation function."
   ]
  },
  {
   "cell_type": "code",
   "execution_count": 2,
   "metadata": {
    "collapsed": true
   },
   "outputs": [],
   "source": [
    "def make_transfer_matrix(theta,gamma,phi):\n",
    "    U_mat = np.array([[np.exp(complex(0,-1)*phi/2)*(np.cos(theta/2)*np.cos(gamma/2)\n",
    "                                            +complex(0,-1)*np.sin(theta/2)*np.sin(gamma/2)),\n",
    "                               \n",
    "                               np.exp(complex(0,1)*phi/2)*(-np.cos(theta/2)*np.sin(gamma/2)\n",
    "                                            +complex(0,-1)*np.sin(theta/2)*np.cos(gamma/2))],\n",
    "                              \n",
    "                              [np.exp(complex(0,-1)*phi/2)*(complex(0,-1)*np.sin(theta/2)*np.cos(gamma/2)\n",
    "                                            +np.cos(theta/2)*np.sin(gamma/2)),\n",
    "                               \n",
    "                               np.exp(complex(0,1)*phi/2)*(complex(0,1)*np.sin(theta/2)*np.sin(gamma/2)\n",
    "                                            +np.cos(theta/2)*np.cos(gamma/2))]])\n",
    "    \n",
    "    return U_mat"
   ]
  },
  {
   "cell_type": "markdown",
   "metadata": {},
   "source": [
    "Create custom versions of all the gates we will use to decompose the Toffoli gate into single- and double-qubit operators (CNOT gate will still be used in this example)."
   ]
  },
  {
   "cell_type": "code",
   "execution_count": 3,
   "metadata": {
    "collapsed": true
   },
   "outputs": [],
   "source": [
    "#hadamard = Rz(pi/2)Rx(pi/2)Rz(pi/2)\n",
    "Z_pi_rot_cust = make_transfer_matrix(0,0,np.pi/2)\n",
    "Z_pi_rot_cust_def = DefGate(\"Z_pi_rot_cust\",Z_pi_rot_cust)\n",
    "Z_pi_rot_CUST = Z_pi_rot_cust_def.get_constructor()\n",
    "\n",
    "X_pi_rot_cust = make_transfer_matrix(np.pi/2,0,0)\n",
    "X_pi_rot_cust_def = DefGate(\"X_pi_rot_cust\",X_pi_rot_cust)\n",
    "X_pi_rot_CUST = X_pi_rot_cust_def.get_constructor()\n",
    "\n",
    "#T gate\n",
    "T_cust = make_transfer_matrix(0,0,np.pi/4)\n",
    "T_cust_def = DefGate(\"T_cust\",T_cust)\n",
    "T_CUST = T_cust_def.get_constructor()\n",
    "\n",
    "#T adjoint gate\n",
    "T_adj_cust = make_transfer_matrix(0,0,-np.pi/4)\n",
    "T_adj_cust_def = DefGate(\"T_adj_cust\",T_adj_cust)\n",
    "T_ADJ_CUST = T_adj_cust_def.get_constructor()\n",
    "\n",
    "#S gate\n",
    "S_cust = make_transfer_matrix(0,0,np.pi/2)\n",
    "S_cust_def = DefGate(\"S_cust\",S_cust)\n",
    "S_CUST = S_cust_def.get_constructor()\n",
    "\n",
    "#X gate (not needed for Toffoli, but used to create input values)\n",
    "X_cust = make_transfer_matrix(np.pi,0,0)\n",
    "X_cust_def = DefGate(\"X_cust\",X_cust)\n",
    "X_CUST = X_cust_def.get_constructor()\n"
   ]
  },
  {
   "cell_type": "markdown",
   "metadata": {},
   "source": [
    "Create the program describing the toffoli gate."
   ]
  },
  {
   "cell_type": "code",
   "execution_count": 4,
   "metadata": {
    "collapsed": true
   },
   "outputs": [],
   "source": [
    "p_toff = Program()\n",
    "p_toff = p_toff + Z_pi_rot_cust_def + X_pi_rot_cust_def + T_cust_def + T_adj_cust_def + S_cust_def \n",
    "\n",
    "p_toff = p_toff + Z_pi_rot_CUST(2) + X_pi_rot_CUST(2) + Z_pi_rot_CUST(2)\n",
    "p_toff += CNOT(1,2)\n",
    "p_toff += T_ADJ_CUST(2)\n",
    "p_toff += CNOT(0,2)\n",
    "p_toff += T_CUST(2)\n",
    "p_toff += CNOT(1,2)\n",
    "p_toff += T_ADJ_CUST(2)\n",
    "p_toff += CNOT(0,2)\n",
    "p_toff += T_ADJ_CUST(1)\n",
    "p_toff += T_CUST(2)\n",
    "p_toff += CNOT(0,1)\n",
    "p_toff = p_toff + Z_pi_rot_CUST(2) + X_pi_rot_CUST(2) + Z_pi_rot_CUST(2)\n",
    "p_toff += T_ADJ_CUST(1)\n",
    "p_toff += CNOT(0,1)\n",
    "p_toff += T_CUST(0)\n",
    "p_toff += S_CUST(1)"
   ]
  },
  {
   "cell_type": "markdown",
   "metadata": {},
   "source": [
    "Analyze output with wavefunction simulator when input to toffoli gate is qubits[2:0] = 000 (marginal error due to floating point error). Since the controls, qubits 0 and 1, are not equal to |1>, a Pauli-X operation will not occur on the target, qubit 2. The output should be qubits[2:0] = 000."
   ]
  },
  {
   "cell_type": "code",
   "execution_count": 5,
   "metadata": {},
   "outputs": [
    {
     "name": "stdout",
     "output_type": "stream",
     "text": [
      "Basis: Probability of Measurement\n",
      "000 : 0.9999999999999998\n",
      "001 : 0.0\n",
      "010 : 0.0\n",
      "011 : 0.0\n",
      "100 : 6.548161810916602e-32\n",
      "101 : 0.0\n",
      "110 : 0.0\n",
      "111 : 0.0\n"
     ]
    }
   ],
   "source": [
    "wf_sim = WavefunctionSimulator()\n",
    "wfn = wf_sim.wavefunction(p_toff)\n",
    "out = wfn.get_outcome_probs()\n",
    "print(\"Basis: Probability of Measurement\")\n",
    "for item in out:\n",
    "    print(\"%s : %s\"%(item,out[item]))"
   ]
  },
  {
   "cell_type": "markdown",
   "metadata": {},
   "source": [
    "Now we will change the input to be qubits[2:0] = 110. Since qubits 0 and 1 are equal to |1>, a Pauli-X operator will cause a bit flip on qubit 2! The output should be qubits[2:0] = 111."
   ]
  },
  {
   "cell_type": "code",
   "execution_count": 6,
   "metadata": {},
   "outputs": [
    {
     "name": "stdout",
     "output_type": "stream",
     "text": [
      "Basis: Probability of Measurement\n",
      "000 : 0.0\n",
      "001 : 0.0\n",
      "010 : 0.0\n",
      "011 : 4.082971482100939e-32\n",
      "100 : 0.0\n",
      "101 : 0.0\n",
      "110 : 0.0\n",
      "111 : 0.9999999999999996\n"
     ]
    }
   ],
   "source": [
    "new_p_toff = Program(X(0),X(1))\n",
    "new_p_toff += p_toff\n",
    "wf_sim2 = WavefunctionSimulator()\n",
    "wfn2 = wf_sim2.wavefunction(new_p_toff)\n",
    "out2 = wfn2.get_outcome_probs()\n",
    "print(\"Basis: Probability of Measurement\")\n",
    "for item in out2:\n",
    "    print(\"%s : %s\"%(item,out2[item]))"
   ]
  },
  {
   "cell_type": "code",
   "execution_count": null,
   "metadata": {
    "collapsed": true
   },
   "outputs": [],
   "source": []
  }
 ],
 "metadata": {
  "kernelspec": {
   "display_name": "Python 3",
   "language": "python",
   "name": "python3"
  },
  "language_info": {
   "codemirror_mode": {
    "name": "ipython",
    "version": 3
   },
   "file_extension": ".py",
   "mimetype": "text/x-python",
   "name": "python",
   "nbconvert_exporter": "python",
   "pygments_lexer": "ipython3",
   "version": "3.6.8"
  }
 },
 "nbformat": 4,
 "nbformat_minor": 2
}
