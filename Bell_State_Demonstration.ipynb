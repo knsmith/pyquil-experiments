{
 "cells": [
  {
   "cell_type": "code",
   "execution_count": 8,
   "metadata": {},
   "outputs": [
    {
     "name": "stdout",
     "output_type": "stream",
     "text": [
      "pyquil version = 2.0.0\n"
     ]
    }
   ],
   "source": [
    "import pyquil\n",
    "from pyquil import Program, get_qc\n",
    "from pyquil.gates import *\n",
    "from pyquil.api import WavefunctionSimulator\n",
    "import numpy as np\n",
    "\n",
    "print(\"pyquil version = %s\"%pyquil.__version__)"
   ]
  },
  {
   "cell_type": "code",
   "execution_count": 2,
   "metadata": {},
   "outputs": [
    {
     "name": "stdout",
     "output_type": "stream",
     "text": [
      "\n",
      "Original Program:\n",
      "H 0\n",
      "CNOT 0 1\n",
      "\n"
     ]
    }
   ],
   "source": [
    "# construct a Bell State program\n",
    "p = Program(H(0), CNOT(0, 1))\n",
    "qvm_str = '2q_qvm'\n",
    "trials = 10\n",
    "print('\\nOriginal Program:')\n",
    "print(p)\n"
   ]
  },
  {
   "cell_type": "code",
   "execution_count": 3,
   "metadata": {},
   "outputs": [
    {
     "name": "stdout",
     "output_type": "stream",
     "text": [
      "Wave function when input |00>\n",
      "00 :  0.4999999999999999  \n",
      "01 :  0.0  \n",
      "10 :  0.0  \n",
      "11 :  0.4999999999999999  \n",
      "Wave function when input |01>\n",
      "00 :  0.0  \n",
      "01 :  0.4999999999999999  \n",
      "10 :  0.4999999999999999  \n",
      "11 :  0.0  \n",
      "Wave function when input |10>\n",
      "00 :  0.4999999999999999  \n",
      "01 :  0.0  \n",
      "10 :  0.0  \n",
      "11 :  0.4999999999999999  \n",
      "Wave function when input |11>\n",
      "00 :  0.0  \n",
      "01 :  0.4999999999999999  \n",
      "10 :  0.4999999999999999  \n",
      "11 :  0.0  \n"
     ]
    }
   ],
   "source": [
    "#perform wave function analysis\n",
    "print('Wave function when input |00>')\n",
    "wf_sim = WavefunctionSimulator()\n",
    "wavefunction = wf_sim.wavefunction(p)\n",
    "output = wavefunction.get_outcome_probs()\n",
    "for item in output:\n",
    "    print(\"%s :  %s  \"%(item,output[item]))\n",
    "\n",
    "#Examine wave function with different input combinations\n",
    "print('Wave function when input |01>')\n",
    "p2 = Program(X(1))\n",
    "p2 = p2+p\n",
    "wfn2 = wf_sim.wavefunction(p2)\n",
    "output2 = wfn2.get_outcome_probs()\n",
    "for item in output2:\n",
    "    print(\"%s :  %s  \"%(item,output2[item]))\n",
    "    \n",
    "print('Wave function when input |10>')\n",
    "p3 = Program(X(0))\n",
    "p3 = p3+p\n",
    "wfn3 = wf_sim.wavefunction(p3)\n",
    "output3 = wfn3.get_outcome_probs()\n",
    "for item in output3:\n",
    "    print(\"%s :  %s  \"%(item,output3[item]))\n",
    "    \n",
    "print('Wave function when input |11>')\n",
    "p4 = Program(X(0),X(1))\n",
    "p4 = p4+p\n",
    "wfn4 = wf_sim.wavefunction(p4)\n",
    "output4 = wfn4.get_outcome_probs()\n",
    "for item in output4:\n",
    "    print(\"%s :  %s  \"%(item,output4[item]))"
   ]
  },
  {
   "cell_type": "code",
   "execution_count": 4,
   "metadata": {},
   "outputs": [
    {
     "name": "stdout",
     "output_type": "stream",
     "text": [
      "Results on 2q_qvm after 10 trials:\n",
      "(run_and_measure function used here)\n",
      "\n",
      "qubit 0 values:\n",
      "[0 0 1 0 1 1 1 0 0 1]\n",
      "qubit 1 values:\n",
      "[0 0 1 0 1 1 1 0 0 1]\n"
     ]
    }
   ],
   "source": [
    "qc = get_qc(qvm_str) #get a QVM\n",
    "#requests made to both quilc and qvm servers to compile and simulate/measure. \n",
    "result = qc.run_and_measure(p, trials=trials)\n",
    "\n",
    "print('Results on %s after %s trials:'%(qvm_str,trials))\n",
    "print('(run_and_measure function used here)\\n')\n",
    "for item in result:\n",
    "    print('qubit %s values:'%(item))\n",
    "    print(result[item])\n"
   ]
  },
  {
   "cell_type": "code",
   "execution_count": 5,
   "metadata": {},
   "outputs": [
    {
     "name": "stdout",
     "output_type": "stream",
     "text": [
      "\n",
      "Now we will compile!\n",
      "\n",
      "Compiled Program:\n",
      "DECLARE ro BIT[2]\n",
      "PRAGMA EXPECTED_REWIRING \"#(0 1)\"\n",
      "RZ(pi/2) 0\n",
      "RX(pi/2) 0\n",
      "RZ(-pi/2) 1\n",
      "RX(pi/2) 1\n",
      "CZ 1 0\n",
      "RX(-pi/2) 1\n",
      "RZ(pi/2) 1\n",
      "MEASURE 1 ro[1]\n",
      "RZ(-pi/2) 0\n",
      "MEASURE 0 ro[0]\n",
      "PRAGMA CURRENT_REWIRING \"#(0 1)\"\n",
      "HALT\n",
      "\n",
      "register values after run 0:\n",
      "[[1 1]]\n",
      "register values after run 1:\n",
      "[[0 0]]\n",
      "register values after run 2:\n",
      "[[0 0]]\n",
      "register values after run 3:\n",
      "[[0 0]]\n",
      "register values after run 4:\n",
      "[[0 0]]\n",
      "register values after run 5:\n",
      "[[1 1]]\n",
      "register values after run 6:\n",
      "[[1 1]]\n",
      "register values after run 7:\n",
      "[[0 0]]\n",
      "register values after run 8:\n",
      "[[0 0]]\n",
      "register values after run 9:\n",
      "[[1 1]]\n"
     ]
    }
   ],
   "source": [
    "print('\\nNow we will compile!')\n",
    "#two bit register (needed if you manually compile and run)\n",
    "ro = p.declare('ro', 'BIT', 2)\n",
    "p += MEASURE(0, ro[0])\n",
    "p += MEASURE(1, ro[1])\n",
    "\n",
    "\n",
    "executable = qc.compile(p) #create QC compatible specification\n",
    "print('\\nCompiled Program:')\n",
    "print(executable['program'])\n",
    "\n",
    "for i in range(0,trials):\n",
    "    print('register values after run %s:'%(i))\n",
    "    result2 = qc.run(executable)\n",
    "    print(result2)"
   ]
  },
  {
   "cell_type": "code",
   "execution_count": null,
   "metadata": {
    "collapsed": true
   },
   "outputs": [],
   "source": []
  },
  {
   "cell_type": "code",
   "execution_count": null,
   "metadata": {
    "collapsed": true
   },
   "outputs": [],
   "source": []
  }
 ],
 "metadata": {
  "kernelspec": {
   "display_name": "Python 3",
   "language": "python",
   "name": "python3"
  },
  "language_info": {
   "codemirror_mode": {
    "name": "ipython",
    "version": 3
   },
   "file_extension": ".py",
   "mimetype": "text/x-python",
   "name": "python",
   "nbconvert_exporter": "python",
   "pygments_lexer": "ipython3",
   "version": "3.6.8"
  }
 },
 "nbformat": 4,
 "nbformat_minor": 2
}
